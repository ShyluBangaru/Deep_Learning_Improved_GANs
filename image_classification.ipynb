{
 "cells": [
  {
   "cell_type": "code",
   "execution_count": 1,
   "metadata": {},
   "outputs": [
    {
     "name": "stderr",
     "output_type": "stream",
     "text": [
      "/Library/Frameworks/Python.framework/Versions/3.12/lib/python3.12/site-packages/torch/utils/_pytree.py:185: FutureWarning: optree is installed but the version is too old to support PyTorch Dynamo in C++ pytree. C++ pytree support is disabled. Please consider upgrading optree using `python3 -m pip install --upgrade 'optree>=0.13.0'`.\n",
      "  warnings.warn(\n",
      "/Library/Frameworks/Python.framework/Versions/3.12/lib/python3.12/site-packages/torchvision/models/_utils.py:208: UserWarning: The parameter 'pretrained' is deprecated since 0.13 and may be removed in the future, please use 'weights' instead.\n",
      "  warnings.warn(\n",
      "/Library/Frameworks/Python.framework/Versions/3.12/lib/python3.12/site-packages/torchvision/models/_utils.py:223: UserWarning: Arguments other than a weight enum or `None` for 'weights' are deprecated since 0.13 and may be removed in the future. The current behavior is equivalent to passing `weights=ResNet50_Weights.IMAGENET1K_V1`. You can also use `weights=ResNet50_Weights.DEFAULT` to get the most up-to-date weights.\n",
      "  warnings.warn(msg)\n",
      "Downloading: \"https://download.pytorch.org/models/resnet50-0676ba61.pth\" to /Users/itsme_reddynaveen/.cache/torch/hub/checkpoints/resnet50-0676ba61.pth\n",
      "100%|██████████| 97.8M/97.8M [00:12<00:00, 8.49MB/s]\n"
     ]
    },
    {
     "name": "stdout",
     "output_type": "stream",
     "text": [
      "Classification and sorting completed!\n"
     ]
    }
   ],
   "source": [
    "import os\n",
    "import shutil\n",
    "from PIL import Image\n",
    "import torch\n",
    "from torchvision import models, transforms\n",
    "\n",
    "# Paths (updated for Mac)\n",
    "source_dir = \"/Users/itsme_reddynaveen/Desktop/Shylendra_imagenet/test/\"\n",
    "target_dir = \"/Users/itsme_reddynaveen/Desktop/Shylendra_imagenet/sorted/\"\n",
    "os.makedirs(target_dir, exist_ok=True)\n",
    "\n",
    "# Load a pretrained ResNet50 model\n",
    "model = models.resnet50(pretrained=True).eval()\n",
    "\n",
    "# ImageNet class labels (Download ImageNet class names if not available)\n",
    "imagenet_classes_url = \"https://raw.githubusercontent.com/anishathalye/imagenet-simple-labels/master/imagenet-simple-labels.json\"\n",
    "imagenet_classes_path = \"imagenet_classes.json\"\n",
    "if not os.path.exists(imagenet_classes_path):\n",
    "    import urllib.request\n",
    "    urllib.request.urlretrieve(imagenet_classes_url, imagenet_classes_path)\n",
    "\n",
    "# Load ImageNet class labels\n",
    "import json\n",
    "with open(imagenet_classes_path, \"r\") as f:\n",
    "    imagenet_classes = json.load(f)\n",
    "\n",
    "# Transform for input images\n",
    "transform = transforms.Compose([\n",
    "    transforms.Resize(256),\n",
    "    transforms.CenterCrop(224),\n",
    "    transforms.ToTensor(),\n",
    "    transforms.Normalize(mean=[0.485, 0.456, 0.406], std=[0.229, 0.224, 0.225]),\n",
    "])\n",
    "\n",
    "# Classify and sort images\n",
    "for img_file in os.listdir(source_dir):\n",
    "    img_path = os.path.join(source_dir, img_file)\n",
    "\n",
    "    try:\n",
    "        # Open and preprocess image\n",
    "        image = Image.open(img_path).convert(\"RGB\")\n",
    "        input_tensor = transform(image).unsqueeze(0)\n",
    "\n",
    "        # Predict the class\n",
    "        with torch.no_grad():\n",
    "            outputs = model(input_tensor)\n",
    "        _, predicted_class = outputs.max(1)\n",
    "        class_name = imagenet_classes[predicted_class.item()]\n",
    "\n",
    "        # Create a folder for the class and move the image\n",
    "        class_dir = os.path.join(target_dir, class_name.replace(\" \", \"_\"))\n",
    "        os.makedirs(class_dir, exist_ok=True)\n",
    "        shutil.move(img_path, os.path.join(class_dir, img_file))\n",
    "\n",
    "    except Exception as e:\n",
    "        print(f\"Error processing {img_file}: {e}\")\n",
    "\n",
    "print(\"Classification and sorting completed!\")\n"
   ]
  }
 ],
 "metadata": {
  "kernelspec": {
   "display_name": "Python 3",
   "language": "python",
   "name": "python3"
  },
  "language_info": {
   "codemirror_mode": {
    "name": "ipython",
    "version": 3
   },
   "file_extension": ".py",
   "mimetype": "text/x-python",
   "name": "python",
   "nbconvert_exporter": "python",
   "pygments_lexer": "ipython3",
   "version": "3.12.1"
  }
 },
 "nbformat": 4,
 "nbformat_minor": 2
}
